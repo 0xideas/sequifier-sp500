{
 "cells": [
  {
   "cell_type": "code",
   "execution_count": 3,
   "metadata": {},
   "outputs": [],
   "source": [
    "import pandas as pd\n",
    "import numpy as np"
   ]
  },
  {
   "cell_type": "code",
   "execution_count": 4,
   "metadata": {},
   "outputs": [],
   "source": [
    "base_columns = [\"Open\", \"High\", \"Low\", \"Close\"]\n",
    "index_columns = [\"OpenSign\", \"HighSign\", \"LowSign\", \"CloseSign\"]\n",
    "preds_df = pd.read_csv(\"../outputs/predictions/sequifier-l3-d48-8targets-best-100-predictions.csv\")\n",
    "preds = {c: preds_df[c].values for c in (base_columns + index_columns)}\n"
   ]
  },
  {
   "cell_type": "code",
   "execution_count": 11,
   "metadata": {},
   "outputs": [],
   "source": [
    "row_data = pd.read_parquet(\"../data/gspc-return-split2.parquet\")\n",
    "map= {1:\"+\", 2:\"-\"}\n",
    "targets = {}\n",
    "for c, group in row_data.groupby(\"inputCol\"):\n",
    "    if c in base_columns:\n",
    "        targets[c] = group[\"target\"].values\n",
    "    if c in index_columns:\n",
    "        targets[c] = np.array([map[v] for v in group[\"target\"].values])\n"
   ]
  },
  {
   "cell_type": "code",
   "execution_count": 14,
   "metadata": {},
   "outputs": [
    {
     "name": "stdout",
     "output_type": "stream",
     "text": [
      "Open: -0.01151107824684262\n",
      "High: 0.008608810021756882\n",
      "Low: 0.013785708211568954\n",
      "Close: 0.003551580367430096\n",
      "OpenSign: 0.5068883610451307\n",
      "HighSign: 0.4997624703087886\n",
      "LowSign: 0.5130641330166271\n",
      "CloseSign: 0.5068883610451307\n"
     ]
    }
   ],
   "source": [
    "for c in base_columns:\n",
    "    print(f\"{c}: {np.corrcoef(preds[c], targets[c])[0, 1]}\")\n",
    "for c in index_columns:\n",
    "    print(f\"{c}: {np.mean(preds[c] == targets[c])}\")"
   ]
  },
  {
   "cell_type": "code",
   "execution_count": 19,
   "metadata": {},
   "outputs": [
    {
     "name": "stdout",
     "output_type": "stream",
     "text": [
      "Open: -0.07413460322069963\n",
      "High: 0.11163872272367174\n",
      "Low: 0.09875004819631697\n",
      "Close: -0.12091067042500168\n",
      "OpenSign: 0.4866920152091255\n",
      "HighSign: 0.5674904942965779\n",
      "LowSign: 0.5475285171102662\n",
      "CloseSign: 0.46387832699619774\n"
     ]
    }
   ],
   "source": [
    "dummy_preds = {} # data from prior day\n",
    "for c, group in row_data.groupby(\"inputCol\"):\n",
    "    dummy_preds[c] = group[\"target\"].values[:-1]\n",
    "for c in base_columns:\n",
    "    print(f\"{c}: {np.corrcoef(dummy_preds[c], targets[c][1:])[0, 1]}\")\n",
    "for c in index_columns:\n",
    "    print(f\"{c}: {np.mean( np.array([map[v] for v in dummy_preds[c]]) == targets[c][1:])}\")"
   ]
  },
  {
   "cell_type": "code",
   "execution_count": null,
   "metadata": {},
   "outputs": [],
   "source": []
  }
 ],
 "metadata": {
  "kernelspec": {
   "display_name": "dev",
   "language": "python",
   "name": "python3"
  },
  "language_info": {
   "codemirror_mode": {
    "name": "ipython",
    "version": 3
   },
   "file_extension": ".py",
   "mimetype": "text/x-python",
   "name": "python",
   "nbconvert_exporter": "python",
   "pygments_lexer": "ipython3",
   "version": "3.11.8"
  }
 },
 "nbformat": 4,
 "nbformat_minor": 2
}
